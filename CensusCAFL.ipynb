{
 "cells": [
  {
   "cell_type": "markdown",
   "metadata": {},
   "source": [
    "# Comparing Census Data between California and Florida"
   ]
  },
  {
   "cell_type": "markdown",
   "metadata": {},
   "source": [
    "##### The purpose of this exercise is to practice using census data. Here I compare data from California and Florida to determine if there are any significant differences between these two states. "
   ]
  },
  {
   "cell_type": "markdown",
   "metadata": {},
   "source": [
    "##### The first step is to load in the excel files using Pandas (I also needed the xlrd package). The census data is divided into different sections, each on a different excel sheet. To load all the sheets in, I needed to set sheet_name=None. As well, I don't want to alter the original formatting of the data and so I need to skip certain rows (headers that span multiple rows) to extract the data I need. There are still subheadings present in the dataframe after this step - but that'll be taken care of at the appropriate analysis stage. I'm going to be looking at the age demographic data first."
   ]
  },
  {
   "cell_type": "code",
   "execution_count": 3,
   "metadata": {},
   "outputs": [],
   "source": [
    "import pandas as pd\n",
    "import numpy as np"
   ]
  },
  {
   "cell_type": "code",
   "execution_count": 4,
   "metadata": {},
   "outputs": [],
   "source": [
    "cali_data = pd.read_excel(\"ACSprofile_California.xls\", sheet_name=None, skiprows=[0,1,2,3,5,6])\n",
    "flor_data = pd.read_excel(\"ACSprofile_Florida.xls\", sheet_name=None, skiprows=[0,1,2,3,5,6])"
   ]
  },
  {
   "cell_type": "code",
   "execution_count": 26,
   "metadata": {},
   "outputs": [],
   "source": [
    "cali_dem = cali_data['Demographic'].rename(columns={\"Unnamed: 0\": \"Characteristic\", \"Number\": \"Cali Number\", \"Number.1\": \"USA Number\", \"MOE.1\": \"USA MOE\",\"Pct.1\": \"US Pct\"})\n",
    "flor_dem = flor_data['Demographic'].rename(columns={\"Unnamed: 0\": \"Characteristic\", \"Number\": \"Flor Number\", \"Number.1\": \"USA Number\", \"MOE.1\": \"USA MOE\",\"Pct.1\": \"US Pct\"})"
   ]
  },
  {
   "cell_type": "code",
   "execution_count": 27,
   "metadata": {},
   "outputs": [
    {
     "data": {
      "text/html": [
       "<div>\n",
       "<style scoped>\n",
       "    .dataframe tbody tr th:only-of-type {\n",
       "        vertical-align: middle;\n",
       "    }\n",
       "\n",
       "    .dataframe tbody tr th {\n",
       "        vertical-align: top;\n",
       "    }\n",
       "\n",
       "    .dataframe thead th {\n",
       "        text-align: right;\n",
       "    }\n",
       "</style>\n",
       "<table border=\"1\" class=\"dataframe\">\n",
       "  <thead>\n",
       "    <tr style=\"text-align: right;\">\n",
       "      <th></th>\n",
       "      <th>Characteristic</th>\n",
       "      <th>Cali Number</th>\n",
       "      <th>MOE</th>\n",
       "      <th>Pct</th>\n",
       "      <th>USA Number</th>\n",
       "      <th>USA MOE</th>\n",
       "      <th>US Pct</th>\n",
       "    </tr>\n",
       "  </thead>\n",
       "  <tbody>\n",
       "    <tr>\n",
       "      <th>0</th>\n",
       "      <td>Total population</td>\n",
       "      <td>39283496.0</td>\n",
       "      <td>NaN</td>\n",
       "      <td>NaN</td>\n",
       "      <td>324697792.0</td>\n",
       "      <td>NaN</td>\n",
       "      <td>NaN</td>\n",
       "    </tr>\n",
       "    <tr>\n",
       "      <th>1</th>\n",
       "      <td>Under 5 years</td>\n",
       "      <td>2451528.0</td>\n",
       "      <td>+/- 826</td>\n",
       "      <td>6.2</td>\n",
       "      <td>19767670.0</td>\n",
       "      <td>+/- 5192</td>\n",
       "      <td>6.1</td>\n",
       "    </tr>\n",
       "    <tr>\n",
       "      <th>2</th>\n",
       "      <td>5 to 9 years</td>\n",
       "      <td>2468226.0</td>\n",
       "      <td>+/- 9095</td>\n",
       "      <td>6.3</td>\n",
       "      <td>20157477.0</td>\n",
       "      <td>+/- 25676</td>\n",
       "      <td>6.2</td>\n",
       "    </tr>\n",
       "    <tr>\n",
       "      <th>3</th>\n",
       "      <td>10 to 14 years</td>\n",
       "      <td>2575463.0</td>\n",
       "      <td>+/- 9054</td>\n",
       "      <td>6.6</td>\n",
       "      <td>20927278.0</td>\n",
       "      <td>+/- 25287</td>\n",
       "      <td>6.4</td>\n",
       "    </tr>\n",
       "    <tr>\n",
       "      <th>4</th>\n",
       "      <td>15 to 19 years</td>\n",
       "      <td>2565170.0</td>\n",
       "      <td>+/- 1436</td>\n",
       "      <td>6.5</td>\n",
       "      <td>21208186.0</td>\n",
       "      <td>+/- 8864</td>\n",
       "      <td>6.5</td>\n",
       "    </tr>\n",
       "  </tbody>\n",
       "</table>\n",
       "</div>"
      ],
      "text/plain": [
       "     Characteristic  Cali Number       MOE  Pct   USA Number    USA MOE  \\\n",
       "0  Total population   39283496.0       NaN  NaN  324697792.0        NaN   \n",
       "1     Under 5 years    2451528.0   +/- 826  6.2   19767670.0   +/- 5192   \n",
       "2      5 to 9 years    2468226.0  +/- 9095  6.3   20157477.0  +/- 25676   \n",
       "3    10 to 14 years    2575463.0  +/- 9054  6.6   20927278.0  +/- 25287   \n",
       "4    15 to 19 years    2565170.0  +/- 1436  6.5   21208186.0   +/- 8864   \n",
       "\n",
       "   US Pct  \n",
       "0     NaN  \n",
       "1     6.1  \n",
       "2     6.2  \n",
       "3     6.4  \n",
       "4     6.5  "
      ]
     },
     "execution_count": 27,
     "metadata": {},
     "output_type": "execute_result"
    }
   ],
   "source": [
    "cali_dem.head()"
   ]
  },
  {
   "cell_type": "code",
   "execution_count": 28,
   "metadata": {
    "collapsed": true,
    "jupyter": {
     "outputs_hidden": true
    }
   },
   "outputs": [
    {
     "data": {
      "text/html": [
       "<div>\n",
       "<style scoped>\n",
       "    .dataframe tbody tr th:only-of-type {\n",
       "        vertical-align: middle;\n",
       "    }\n",
       "\n",
       "    .dataframe tbody tr th {\n",
       "        vertical-align: top;\n",
       "    }\n",
       "\n",
       "    .dataframe thead th {\n",
       "        text-align: right;\n",
       "    }\n",
       "</style>\n",
       "<table border=\"1\" class=\"dataframe\">\n",
       "  <thead>\n",
       "    <tr style=\"text-align: right;\">\n",
       "      <th></th>\n",
       "      <th>Characteristic</th>\n",
       "      <th>Flor Number</th>\n",
       "      <th>MOE</th>\n",
       "      <th>Pct</th>\n",
       "      <th>USA Number</th>\n",
       "      <th>USA MOE</th>\n",
       "      <th>US Pct</th>\n",
       "    </tr>\n",
       "  </thead>\n",
       "  <tbody>\n",
       "    <tr>\n",
       "      <th>0</th>\n",
       "      <td>Total population</td>\n",
       "      <td>20901636.0</td>\n",
       "      <td>NaN</td>\n",
       "      <td>NaN</td>\n",
       "      <td>324697792.0</td>\n",
       "      <td>NaN</td>\n",
       "      <td>NaN</td>\n",
       "    </tr>\n",
       "    <tr>\n",
       "      <th>1</th>\n",
       "      <td>Under 5 years</td>\n",
       "      <td>1128214.0</td>\n",
       "      <td>+/- 1171</td>\n",
       "      <td>5.4</td>\n",
       "      <td>19767670.0</td>\n",
       "      <td>+/- 5192</td>\n",
       "      <td>6.1</td>\n",
       "    </tr>\n",
       "    <tr>\n",
       "      <th>2</th>\n",
       "      <td>5 to 9 years</td>\n",
       "      <td>1132263.0</td>\n",
       "      <td>+/- 6817</td>\n",
       "      <td>5.4</td>\n",
       "      <td>20157477.0</td>\n",
       "      <td>+/- 25676</td>\n",
       "      <td>6.2</td>\n",
       "    </tr>\n",
       "    <tr>\n",
       "      <th>3</th>\n",
       "      <td>10 to 14 years</td>\n",
       "      <td>1197885.0</td>\n",
       "      <td>+/- 6733</td>\n",
       "      <td>5.7</td>\n",
       "      <td>20927278.0</td>\n",
       "      <td>+/- 25287</td>\n",
       "      <td>6.4</td>\n",
       "    </tr>\n",
       "    <tr>\n",
       "      <th>4</th>\n",
       "      <td>15 to 19 years</td>\n",
       "      <td>1206046.0</td>\n",
       "      <td>+/- 1813</td>\n",
       "      <td>5.8</td>\n",
       "      <td>21208186.0</td>\n",
       "      <td>+/- 8864</td>\n",
       "      <td>6.5</td>\n",
       "    </tr>\n",
       "  </tbody>\n",
       "</table>\n",
       "</div>"
      ],
      "text/plain": [
       "     Characteristic  Flor Number       MOE  Pct   USA Number    USA MOE  \\\n",
       "0  Total population   20901636.0       NaN  NaN  324697792.0        NaN   \n",
       "1     Under 5 years    1128214.0  +/- 1171  5.4   19767670.0   +/- 5192   \n",
       "2      5 to 9 years    1132263.0  +/- 6817  5.4   20157477.0  +/- 25676   \n",
       "3    10 to 14 years    1197885.0  +/- 6733  5.7   20927278.0  +/- 25287   \n",
       "4    15 to 19 years    1206046.0  +/- 1813  5.8   21208186.0   +/- 8864   \n",
       "\n",
       "   US Pct  \n",
       "0     NaN  \n",
       "1     6.1  \n",
       "2     6.2  \n",
       "3     6.4  \n",
       "4     6.5  "
      ]
     },
     "execution_count": 28,
     "metadata": {},
     "output_type": "execute_result"
    }
   ],
   "source": [
    "flor_dem.head()"
   ]
  },
  {
   "cell_type": "markdown",
   "metadata": {},
   "source": [
    "#### Question 1: How do the age demographics between California and Florida compare to each other and to the US overall?"
   ]
  },
  {
   "cell_type": "markdown",
   "metadata": {},
   "source": [
    "##### My hypothesis is that there will be a greater number of people who are older than 40 in Florida compared to California because Florida is a popular retirement location. California is known for Silicon Valley, which attracts younger people in tech and business. I predict that these differences will be significant compared to the whole US population. Therefore, compared to the total US population, I predict that there will be a greater number of relatively older people in Florida (age 40+) while California will have a greater number of younger folk."
   ]
  },
  {
   "cell_type": "markdown",
   "metadata": {},
   "source": [
    "##### To answer this question, I need the percentages for each of the age ranges. The error in the percentages is really small - I will be ignoring this as I am interested in large differences (e.g. >3%) between the Florida and California data (although a more rigorous analysis would consider the error as well to determine significant differences). "
   ]
  },
  {
   "cell_type": "markdown",
   "metadata": {},
   "source": [
    "##### I want to plot the percents for each age range as bar plots for California and Florida. On top of that, I want a line graph showing the US population data."
   ]
  },
  {
   "cell_type": "markdown",
   "metadata": {},
   "source": [
    "##### First I am going to drop any rows with NAs in them:"
   ]
  },
  {
   "cell_type": "code",
   "execution_count": 30,
   "metadata": {},
   "outputs": [],
   "source": [
    "cali_dem = cali_dem.dropna(how=\"any\")\n",
    "flor_dem = flor_dem.dropna(how=\"any\")"
   ]
  },
  {
   "cell_type": "markdown",
   "metadata": {},
   "source": [
    "##### Then I am going to select the rows I am interested in. For this, there are two functions that can be used: loc and iloc. loc is used when the indicies are not an integer, it is LABEL-BASED. iloc is INTEGER-BASED."
   ]
  },
  {
   "cell_type": "markdown",
   "metadata": {},
   "source": [
    "##### loc is used along with a condition - example: data.loc[data.age >= 15]. It can also be used with a range of indices - example: data.loc[1:3]"
   ]
  },
  {
   "cell_type": "markdown",
   "metadata": {},
   "source": [
    "##### Since I removed some rows with headings, it's better to use iloc to make sure I extract the data I want. Also, pick out the characteristic, the Pcts and the US Pcts."
   ]
  },
  {
   "cell_type": "code",
   "execution_count": 54,
   "metadata": {},
   "outputs": [],
   "source": [
    "cali_ages = cali_dem.iloc[0:13]\n",
    "flor_ages = flor_dem.iloc[0:13]"
   ]
  },
  {
   "cell_type": "code",
   "execution_count": 55,
   "metadata": {},
   "outputs": [],
   "source": [
    "age_ranges = cali_ages[\"Characteristic\"] #these are the same between California and Florida"
   ]
  },
  {
   "cell_type": "code",
   "execution_count": 63,
   "metadata": {},
   "outputs": [],
   "source": [
    "cali_pct = cali_ages[\"Pct\"]\n",
    "flor_pct = flor_ages[\"Pct\"]\n",
    "us_pct = flor_ages[\"US Pct\"] #note that we could have taken these from either dataset"
   ]
  },
  {
   "cell_type": "markdown",
   "metadata": {},
   "source": [
    "##### Double check that the percentages sum to roughly 100% - it might not be exactly 100% due to rounding errors."
   ]
  },
  {
   "cell_type": "code",
   "execution_count": 61,
   "metadata": {},
   "outputs": [
    {
     "data": {
      "text/plain": [
       "100.09999999999998"
      ]
     },
     "execution_count": 61,
     "metadata": {},
     "output_type": "execute_result"
    }
   ],
   "source": [
    "cali_pct.sum()"
   ]
  },
  {
   "cell_type": "code",
   "execution_count": 62,
   "metadata": {},
   "outputs": [
    {
     "data": {
      "text/plain": [
       "99.89999999999999"
      ]
     },
     "execution_count": 62,
     "metadata": {},
     "output_type": "execute_result"
    }
   ],
   "source": [
    "flor_pct.sum()"
   ]
  },
  {
   "cell_type": "markdown",
   "metadata": {},
   "source": [
    "##### Plotting the results:"
   ]
  },
  {
   "cell_type": "code",
   "execution_count": 86,
   "metadata": {},
   "outputs": [
    {
     "data": {
      "image/png": "[encoded data removed]",
      "text/plain": [
       "<Figure size 432x288 with 1 Axes>"
      ]
     },
     "metadata": {
      "needs_background": "light"
     },
     "output_type": "display_data"
    }
   ],
   "source": [
    "import matplotlib.pyplot as plt\n",
    "\n",
    "width = 0.4\n",
    "ind = np.arange(len(age_ranges))\n",
    "plt.bar(ind, cali_pct, width, label=\"CA\")\n",
    "plt.bar(ind + width, flor_pct, width, label=\"FL\")\n",
    "plt.plot(ind + width/2, us_pct, color=\"black\", label=\"US\")\n",
    "plt.grid()\n",
    "plt.xticks(ind + width/2, age_ranges, rotation='vertical')\n",
    "plt.ylabel(\"Percent [%]\")\n",
    "plt.legend(loc=\"best\")\n",
    "plt.title(\"Fig 1: Age Demographics in 5 year Age Ranges\")\n",
    "plt.show()"
   ]
  },
  {
   "cell_type": "markdown",
   "metadata": {},
   "source": [
    "##### The above plot shows that California has a greater percent of people between the ages of 0 and 44 with the largest difference seen at 25 to 34 years, a difference of approximately 2%. At ages greater than 44, Florida has a greater percent of people compared to California with the greatest difference seen at 65 to 74 years, a difference of roughly 3%. These results confirm the hypothesis that a greater percent of younger people reside in California while a greater percent of people over 45 reside in Florida. It is interesting to note that for people aged 65 to 84, roughly 2-3% more people reside in Florida compared to California. However this difference shrinks for those aged 85 and over. This may be linked to the life expectancy in the US. "
   ]
  },
  {
   "cell_type": "markdown",
   "metadata": {},
   "source": [
    "##### California seems to be following the US average for those aged 0 to 24 while Florida appears to be under average for this age range. It is only between 65 and 84 years where the percent of people in Florida is significantly greater than the US average. "
   ]
  },
  {
   "cell_type": "markdown",
   "metadata": {},
   "source": [
    "##### Figure 1 shows the percentages of people divided into several age ranges which span 5 years. These divisions are rather fine and so it might be more helpful to look at larger age ranges. This data is present in the original demographic data and we will consider those who are under 18 years of age, those 25 and above and those 65 and above."
   ]
  },
  {
   "cell_type": "markdown",
   "metadata": {},
   "source": [
    "##### To locate the rows of interest, we will use loc. "
   ]
  },
  {
   "cell_type": "code",
   "execution_count": 95,
   "metadata": {},
   "outputs": [],
   "source": [
    "cali_age_large_range = cali_dem.loc[[17,20,22]]\n",
    "flor_age_large_range = flor_dem.loc[[17,20,22]]\n",
    "\n",
    "large_age_divisions = cali_age_large_range[\"Characteristic\"]\n",
    "cali_age_large_pct = cali_age_large_range[\"Pct\"]\n",
    "flor_age_large_pct = flor_age_large_range[\"Pct\"]\n",
    "us_age_large_pct = flor_age_large_range[\"US Pct\"]"
   ]
  },
  {
   "cell_type": "markdown",
   "metadata": {},
   "source": [
    "##### Plotting the results:"
   ]
  },
  {
   "cell_type": "code",
   "execution_count": 98,
   "metadata": {},
   "outputs": [
    {
     "data": {
      "image/png": "[encoded data removed]",
      "text/plain": [
       "<Figure size 432x288 with 1 Axes>"
      ]
     },
     "metadata": {
      "needs_background": "light"
     },
     "output_type": "display_data"
    }
   ],
   "source": [
    "import matplotlib.pyplot as plt\n",
    "\n",
    "width = 0.4\n",
    "ind = np.arange(len(large_age_divisions))\n",
    "plt.bar(ind, cali_age_large_pct, width, label=\"CA\")\n",
    "plt.bar(ind + width, flor_age_large_pct, width, label=\"FL\")\n",
    "plt.plot(ind + width/2, us_age_large_pct, color=\"black\", label=\"US\")\n",
    "plt.grid()\n",
    "plt.xticks(ind + width/2, large_age_divisions)\n",
    "plt.ylabel(\"Percent [%]\")\n",
    "plt.legend(loc=\"best\")\n",
    "plt.title(\"Fig 2: Age Demographics considering those under 18, over 25 and over 65\")\n",
    "plt.show()"
   ]
  },
  {
   "cell_type": "markdown",
   "metadata": {},
   "source": [
    "##### Based on Figure 2, we see again that California has a younger population while Florida appears to have more people aged 25 and up which includes those 65 and up. "
   ]
  },
  {
   "cell_type": "markdown",
   "metadata": {},
   "source": [
    "### Question 2: How do the incomes differ between these two states?"
   ]
  },
  {
   "cell_type": "code",
   "execution_count": 33,
   "metadata": {},
   "outputs": [],
   "source": [
    "cali_economic = cali_data['Economic'].rename(columns={\"Unnamed: 0\": \"Characteristic\", \"Number\": \"Cali Number\", \"Number.1\": \"USA Number\", \"MOE.1\": \"USA MOE\",\"Pct.1\": \"US Pct\"})\n",
    "flor_economic = flor_data['Economic'].rename(columns={\"Unnamed: 0\": \"Characteristic\", \"Number\": \"Cali Number\", \"Number.1\": \"USA Number\", \"MOE.1\": \"USA MOE\",\"Pct.1\": \"US Pct\"})"
   ]
  },
  {
   "cell_type": "code",
   "execution_count": 36,
   "metadata": {},
   "outputs": [],
   "source": [
    "cali_economic = cali_economic.dropna(how=\"any\")\n",
    "flor_economic = flor_economic.dropna(how=\"any\")"
   ]
  },
  {
   "cell_type": "code",
   "execution_count": 37,
   "metadata": {},
   "outputs": [],
   "source": [
    "cali_income = cali_economic.iloc[0:10]\n",
    "flor_income = flor_economic.iloc[0:10]"
   ]
  },
  {
   "cell_type": "code",
   "execution_count": 38,
   "metadata": {},
   "outputs": [],
   "source": [
    "income_values = cali_income['Characteristic']\n",
    "cali_income_pct = cali_income['Pct']\n",
    "flor_income_pct = flor_income['Pct']\n",
    "us_income_pct = flor_income['US Pct']"
   ]
  },
  {
   "cell_type": "markdown",
   "metadata": {},
   "source": [
    "#### Plotting"
   ]
  },
  {
   "cell_type": "code",
   "execution_count": 39,
   "metadata": {},
   "outputs": [
    {
     "data": {
      "image/png": "[encoded data removed]",
      "text/plain": [
       "<Figure size 432x288 with 1 Axes>"
      ]
     },
     "metadata": {
      "needs_background": "light"
     },
     "output_type": "display_data"
    }
   ],
   "source": [
    "import matplotlib.pyplot as plt\n",
    "\n",
    "width = 0.4\n",
    "ind = np.arange(len(income_values))\n",
    "plt.bar(ind, cali_income_pct, width, label=\"CA\")\n",
    "plt.bar(ind + width, flor_income_pct, width, label=\"FL\")\n",
    "plt.plot(ind + width/2, us_income_pct, color=\"black\", label=\"US\")\n",
    "plt.grid()\n",
    "plt.xticks(ind + width/2, income_values, rotation='vertical')\n",
    "plt.ylabel(\"Percent [%]\")\n",
    "plt.legend(loc=\"best\")\n",
    "plt.title(\"Fig 3: Income Brackets\")\n",
    "plt.show()"
   ]
  },
  {
   "cell_type": "markdown",
   "metadata": {},
   "source": [
    "##### Let's also consider other benefits (social security, retirement income etc.)"
   ]
  },
  {
   "cell_type": "code",
   "execution_count": 28,
   "metadata": {},
   "outputs": [],
   "source": [
    "cali_benefits = cali_economic[10:16]\n",
    "flor_benefits = flor_economic[10:16]"
   ]
  },
  {
   "cell_type": "code",
   "execution_count": 30,
   "metadata": {},
   "outputs": [],
   "source": [
    "benefits = cali_benefits['Characteristic']\n",
    "cali_benefits_pct = cali_benefits['Pct']\n",
    "flor_benefits_pct = flor_benefits['Pct']\n",
    "us_benefits_pct = flor_benefits['US Pct']"
   ]
  },
  {
   "cell_type": "code",
   "execution_count": 31,
   "metadata": {},
   "outputs": [
    {
     "data": {
      "image/png": "[encoded data removed]",
      "text/plain": [
       "<Figure size 432x288 with 1 Axes>"
      ]
     },
     "metadata": {
      "needs_background": "light"
     },
     "output_type": "display_data"
    }
   ],
   "source": [
    "import matplotlib.pyplot as plt\n",
    "\n",
    "width = 0.4\n",
    "ind = np.arange(len(benefits))\n",
    "plt.bar(ind, cali_benefits_pct, width, label=\"CA\")\n",
    "plt.bar(ind + width, flor_benefits_pct, width, label=\"FL\")\n",
    "plt.plot(ind + width/2, us_benefits_pct, color=\"black\", label=\"US\")\n",
    "plt.grid()\n",
    "plt.xticks(ind + width/2, benefits, rotation='vertical')\n",
    "plt.ylabel(\"Percent [%]\")\n",
    "plt.legend(loc=\"best\")\n",
    "plt.title(\"Fig 4: Benefits\")\n",
    "plt.show()"
   ]
  },
  {
   "cell_type": "code",
   "execution_count": 49,
   "metadata": {},
   "outputs": [],
   "source": [
    "cali_poverty = cali_economic.iloc[[30, 35, 36, 37]]\n",
    "flor_poverty = flor_economic.iloc[[30, 35, 36, 37]]"
   ]
  },
  {
   "cell_type": "code",
   "execution_count": 51,
   "metadata": {},
   "outputs": [],
   "source": [
    "poverty_labels = cali_poverty['Characteristic']\n",
    "cali_poverty_pct = cali_poverty['Pct']\n",
    "flor_poverty_pct = flor_poverty['Pct']\n",
    "us_poverty_pct = flor_poverty['US Pct']"
   ]
  },
  {
   "cell_type": "code",
   "execution_count": 53,
   "metadata": {},
   "outputs": [
    {
     "data": {
      "image/png": "[encoded data removed]",
      "text/plain": [
       "<Figure size 432x288 with 1 Axes>"
      ]
     },
     "metadata": {
      "needs_background": "light"
     },
     "output_type": "display_data"
    }
   ],
   "source": [
    "import matplotlib.pyplot as plt\n",
    "\n",
    "width = 0.4\n",
    "ind = np.arange(len(poverty_labels))\n",
    "plt.bar(ind, cali_poverty_pct, width, label=\"CA\")\n",
    "plt.bar(ind + width, flor_poverty_pct, width, label=\"FL\")\n",
    "plt.plot(ind + width/2, us_poverty_pct, color=\"black\", label=\"US\")\n",
    "plt.grid()\n",
    "plt.xticks(ind + width/2, poverty_labels, rotation='vertical')\n",
    "plt.ylabel(\"Percent [%]\")\n",
    "plt.legend(loc=\"best\")\n",
    "plt.title(\"Fig 5: Poverty Spreads\")\n",
    "plt.show()"
   ]
  },
  {
   "cell_type": "markdown",
   "metadata": {},
   "source": [
    "##### Based on Figures 4 and 5, we see that a larger percentage of people in California have earnings compared to those in Florida. This appears to be correlated with relatively lower measures of poverty compared to Florida (although they are within a few percent). In addition, a larger percentage of people in Florida are receiving social security or have retirement income which is in line with the age demographics analysis. There is also a larger percentage of people in Florida who received food stamps in the last 12 months of the census which also correlates with the relatively higher poverty rates. "
   ]
  },
  {
   "cell_type": "markdown",
   "metadata": {},
   "source": [
    "#### Other aspects to look at: workers by industry, education, computer ownership and internet use"
   ]
  }
 ],
 "metadata": {
  "kernelspec": {
   "display_name": "Python 3",
   "language": "python",
   "name": "python3"
  },
  "language_info": {
   "codemirror_mode": {
    "name": "ipython",
    "version": 3
   },
   "file_extension": ".py",
   "mimetype": "text/x-python",
   "name": "python",
   "nbconvert_exporter": "python",
   "pygments_lexer": "ipython3",
   "version": "3.7.3"
  }
 },
 "nbformat": 4,
 "nbformat_minor": 5
}
